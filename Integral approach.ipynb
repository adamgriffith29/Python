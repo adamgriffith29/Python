{
 "cells": [
  {
   "cell_type": "code",
   "execution_count": 1,
   "metadata": {
    "collapsed": true
   },
   "outputs": [
    {
     "name": "stdout",
     "output_type": "stream",
     "text": [
      "Integral using trapezoid rule =  1.839010226283464\n",
      "Integral using midpoint rule =  1.839009980333047\n",
      "Integral using Simpson's rule = 1.8496914985019426\n",
      "Integral using monte carlo =  2.0586105418614706\n",
      "analytical solution =  1.8390715290764525\n",
      "difference between midpoint rule and analytical solution  =  6.154874340547067e-05\n",
      "difference between Simpson's rule solution and analytical solution =  0.010619969425490039\n",
      "difference between trapezoid rule and analytical solution  =  6.130279298854902e-05\n",
      "difference between monte carlo method and analytical solution -0.21953901278501808\n"
     ]
    }
   ],
   "source": [
    "import numpy as np\n",
    "import random\n",
    "\n",
    "def fn(xx):\n",
    "    return np.sin(xx)\n",
    "\n",
    "xmin =  0.0\n",
    "xmax = 10.0\n",
    "\n",
    "n = int(input(\"enter number of bins: \"))\n",
    "dx   = (xmax-xmin)/n\n",
    "Ftrap = 0\n",
    "for i in range(0,n+1):\n",
    "    x = xmin + i*dx\n",
    "    w = 1.0\n",
    "    if(i==0 or i==n): w = 0.5\n",
    "    Ftrap += w * fn(x) * dx\n",
    "print(\"Integral using trapezoid rule = \",Ftrap)\n",
    "\n",
    "# midpoint rule\n",
    "a = 0\n",
    "b = 10\n",
    "h = (b - a) / (n-1)\n",
    "x = np.linspace(a, b, n)\n",
    "f = np.sin(x)\n",
    "Fmid = (h/2)*(f[0] + \\\n",
    "              2 * sum(f[1:n-1]) + f[n-1])\n",
    "print(\"Integral using midpoint rule = \",Fmid)\n",
    "\n",
    "#Simpson's rule\n",
    "a = 0\n",
    "b = 10\n",
    "h = (b - a) / (n - 1)\n",
    "x = np.linspace(a, b, n)\n",
    "f = np.sin(x)\n",
    "Fsimp = (h/3) * (f[0] + 2*sum(f[:n-2:2]) \\\n",
    "                 + 4*sum(f[1:n-1:2]) + f[n-1])\n",
    "print(\"Integral using Simpson's rule =\",Fsimp)\n",
    "\n",
    "#Monte Carlo\n",
    "plt_vals = []\n",
    "for i in range(n):\n",
    "    ar = np.zeros(n)\n",
    "    for i in range (len(ar)):\n",
    "        ar[i] = random.uniform(xmin,xmax)\n",
    "    integral = 0.0\n",
    "    for i in ar:\n",
    "        integral += fn(i)\n",
    "    mont_carl = (b-a)/float(n)*integral\n",
    "print('Integral using monte carlo = ',mont_carl)\n",
    "r = 10\n",
    "analytical_sol = -np.cos(r)+1\n",
    "print('analytical solution = ',analytical_sol)\n",
    "\n",
    "k = analytical_sol - Fmid\n",
    "print(\"difference between midpoint rule and analytical solution  = \" ,k)\n",
    "v = (analytical_sol - Fsimp)*(-1)\n",
    "print(\"difference between Simpson's rule solution and analytical solution = \" ,v)\n",
    "m = analytical_sol - Ftrap\n",
    "print(\"difference between trapezoid rule and analytical solution  = \",m)\n",
    "j = analytical_sol - mont_carl\n",
    "print(\"difference between monte carlo method and analytical solution\",j)\n",
    "#Analytical answer = 1.83907..."
   ]
  },
  {
   "cell_type": "code",
   "execution_count": null,
   "outputs": [],
   "source": [],
   "metadata": {
    "collapsed": false
   }
  }
 ],
 "metadata": {
  "kernelspec": {
   "display_name": "Python 3",
   "language": "python",
   "name": "python3"
  },
  "language_info": {
   "codemirror_mode": {
    "name": "ipython",
    "version": 2
   },
   "file_extension": ".py",
   "mimetype": "text/x-python",
   "name": "python",
   "nbconvert_exporter": "python",
   "pygments_lexer": "ipython2",
   "version": "2.7.6"
  }
 },
 "nbformat": 4,
 "nbformat_minor": 0
}
