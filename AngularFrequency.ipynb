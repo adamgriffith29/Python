{
 "cells": [
  {
   "cell_type": "code",
   "execution_count": 2,
   "metadata": {
    "collapsed": true
   },
   "outputs": [
    {
     "data": {
      "text/plain": "<Figure size 640x480 with 1 Axes>",
      "image/png": "[encoded data removed]"
     },
     "metadata": {},
     "output_type": "display_data"
    }
   ],
   "source": [
    "import numpy as np\n",
    "import matplotlib.pyplot as plt\n",
    "import sys\n",
    "def chi2(x,y,sigy,b):\n",
    "\n",
    "    val = 0.0\n",
    "\n",
    "    for i in range(0,len(x)):\n",
    "        val+=b\n",
    "    return val\n",
    "\n",
    "b = 3\n",
    "\n",
    "### read data ###\n",
    "\n",
    "filename=\"linefit.txt\"\n",
    "data = np.loadtxt(filename,skiprows=1,usecols=(0,1,2))\n",
    "\n",
    "x     = data[:,0]\n",
    "y     = data[:,1]\n",
    "sigy  = data[:,2]\n",
    "\n",
    "### plot data, superimpose line with slope 'a' ###\n",
    "\n",
    "plt.errorbar(x, y, yerr=sigy, fmt='o')\n",
    "straightline = b*x\n",
    "plt.plot(x,straightline,label=\"b =\"+str(b))\n",
    "plt.axis([0.0,100.0,0.0,3.0])\n",
    "plt.xlabel(\"length (cm)\")\n",
    "plt.ylabel(\"potential (Volts)\")\n",
    "plt.text(70.0,0.2,\"$\\\\chi^2 =$\"+str(chi2(x,y,sigy,b)))\n",
    "plt.legend(loc=\"upper left\")\n",
    "z = np.polyfit(x, y, 1)\n",
    "plt.show()\n",
    "\n"
   ]
  },
  {
   "cell_type": "code",
   "execution_count": 3,
   "outputs": [
    {
     "data": {
      "text/plain": "1"
     },
     "execution_count": 3,
     "metadata": {},
     "output_type": "execute_result"
    },
    {
     "data": {
      "text/plain": "<Figure size 640x480 with 0 Axes>"
     },
     "metadata": {},
     "output_type": "display_data"
    }
   ],
   "source": [
    "import numpy as np\n",
    "import matplotlib.pyplot as plt\n",
    "import os\n",
    "\n",
    "#amplitude = 0.4 , angular frequency =2*pi*f = 8pi , wave number: lambda = v/f=2; k=2pi/lambda = pi\n",
    "a = 0.4\n",
    "w=8*np.pi\n",
    "k=np.pi\n",
    "def sol(t,x):\n",
    "    return a*(np.sin((w*t)-(k*x)))\n",
    "\n",
    "def draw_frame(t,x):\n",
    "    plt.axhline(color = 'gray', zorder=-1)\n",
    "    plt.plot(x,sol(t,x))\n",
    "    plt.axis((0,10.0,-0.5,0.5))\n",
    "    plt.xlabel('t')\n",
    "    plt.ylabel('sol(t,x)')\n",
    "    plt.title('solution wave at t = %5.1f' % t)\n",
    "\n",
    "x=np.linspace(0,10,1001)\n",
    "t=np.linspace(0,10,80)\n",
    "\n",
    "for i in range(len(t)):\n",
    "    file_name='_agriffithproblemone_temp%03d.png' % i\n",
    "    draw_frame(t[i],x)\n",
    "    plt.savefig('Problem 1')\n",
    "    plt.clf()\n",
    "\n",
    "os.system(\"del _agriffithproblemone_temp.mpg\")\n",
    "os.system(\"ffmpeg -r 25 -i _agriffithproblemone_temp%03d.png p1.mpg\")\n",
    "os.system(\"rm _agriffithproblemone_temp*.png\")"
   ],
   "metadata": {
    "collapsed": false
   }
  },
  {
   "cell_type": "code",
   "execution_count": null,
   "outputs": [],
   "source": [
    "import numpy as np\n",
    "import matplotlib.pyplot as plt\n",
    "import os\n",
    "\n",
    "#y_0 = 3; 2y_0 = 6 -> amplitude = 6, period = pi, wavelength = 6/pi\n",
    "\n",
    "a = 6\n",
    "w = 2\n",
    "k = 3*np.pi\n",
    "def sol(t,x):\n",
    "    return a*((np.cos((w*t))*(np.sin(k*x))))\n",
    "\n",
    "def draw_frame(t,x):\n",
    "    plt.plot(x,sol(t,x))\n",
    "    plt.axis([0,10.0,0,8])\n",
    "    plt.xlabel('t')\n",
    "    plt.ylabel('sol(t,x)')\n",
    "    plt.title('solution wave at t = %5.1f' % t)\n",
    "\n",
    "x=np.linspace(0,10,1001)\n",
    "t=np.linspace(0,10,80)\n",
    "\n",
    "for i in range(len(t)):\n",
    "    file_name='_agriffithproblemtwotemp%03d.png' % i\n",
    "    draw_frame(t[i],x)\n",
    "    plt.savefig(file_name)\n",
    "    plt.clf()\n",
    "\n",
    "os.system(\"del _agriffithproblemtwo_temp.mpg\")\n",
    "os.system(\"ffmpeg -r 25 -i _temp%03d.png _agriffithproblemtwo_temp.mpg\")\n",
    "os.system(\"rm _agriffithproblemtwo_temp*.png\")"
   ],
   "metadata": {
    "collapsed": false
   }
  }
 ],
 "metadata": {
  "kernelspec": {
   "display_name": "Python 3",
   "language": "python",
   "name": "python3"
  },
  "language_info": {
   "codemirror_mode": {
    "name": "ipython",
    "version": 2
   },
   "file_extension": ".py",
   "mimetype": "text/x-python",
   "name": "python",
   "nbconvert_exporter": "python",
   "pygments_lexer": "ipython2",
   "version": "2.7.6"
  }
 },
 "nbformat": 4,
 "nbformat_minor": 0
}
