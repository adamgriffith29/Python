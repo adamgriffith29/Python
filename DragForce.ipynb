{
 "cells": [
  {
   "cell_type": "code",
   "execution_count": 5,
   "metadata": {
    "collapsed": true
   },
   "outputs": [
    {
     "ename": "ValueError",
     "evalue": "could not convert string to float: 'v'",
     "output_type": "error",
     "traceback": [
      "\u001B[1;31m---------------------------------------------------------------------------\u001B[0m",
      "\u001B[1;31mValueError\u001B[0m                                Traceback (most recent call last)",
      "\u001B[1;32m~\\AppData\\Local\\Temp\\ipykernel_13380\\3245204524.py\u001B[0m in \u001B[0;36m<module>\u001B[1;34m\u001B[0m\n\u001B[0;32m     19\u001B[0m \u001B[1;31m### read data ###\u001B[0m\u001B[1;33m\u001B[0m\u001B[1;33m\u001B[0m\u001B[0m\n\u001B[0;32m     20\u001B[0m \u001B[0mfilename\u001B[0m\u001B[1;33m=\u001B[0m\u001B[1;34m\"airdrag.txt\"\u001B[0m\u001B[1;33m\u001B[0m\u001B[1;33m\u001B[0m\u001B[0m\n\u001B[1;32m---> 21\u001B[1;33m \u001B[0mdata\u001B[0m \u001B[1;33m=\u001B[0m \u001B[0mnp\u001B[0m\u001B[1;33m.\u001B[0m\u001B[0mloadtxt\u001B[0m\u001B[1;33m(\u001B[0m\u001B[0mfilename\u001B[0m\u001B[1;33m,\u001B[0m\u001B[0musecols\u001B[0m\u001B[1;33m=\u001B[0m\u001B[1;33m(\u001B[0m\u001B[1;36m0\u001B[0m\u001B[1;33m,\u001B[0m\u001B[1;36m1\u001B[0m\u001B[1;33m)\u001B[0m\u001B[1;33m)\u001B[0m\u001B[1;33m\u001B[0m\u001B[1;33m\u001B[0m\u001B[0m\n\u001B[0m\u001B[0;32m     22\u001B[0m \u001B[0mv\u001B[0m \u001B[1;33m=\u001B[0m \u001B[0mdata\u001B[0m\u001B[1;33m[\u001B[0m\u001B[1;33m:\u001B[0m\u001B[1;33m,\u001B[0m\u001B[1;36m0\u001B[0m\u001B[1;33m]\u001B[0m\u001B[1;33m\u001B[0m\u001B[1;33m\u001B[0m\u001B[0m\n\u001B[0;32m     23\u001B[0m \u001B[0mF\u001B[0m \u001B[1;33m=\u001B[0m \u001B[0mdata\u001B[0m\u001B[1;33m[\u001B[0m\u001B[1;33m:\u001B[0m\u001B[1;33m,\u001B[0m\u001B[1;36m1\u001B[0m\u001B[1;33m]\u001B[0m\u001B[1;33m\u001B[0m\u001B[1;33m\u001B[0m\u001B[0m\n",
      "\u001B[1;32m~\\anaconda3\\lib\\site-packages\\numpy\\lib\\npyio.py\u001B[0m in \u001B[0;36mloadtxt\u001B[1;34m(fname, dtype, comments, delimiter, converters, skiprows, usecols, unpack, ndmin, encoding, max_rows, like)\u001B[0m\n\u001B[0;32m   1146\u001B[0m         \u001B[1;31m# converting the data\u001B[0m\u001B[1;33m\u001B[0m\u001B[1;33m\u001B[0m\u001B[0m\n\u001B[0;32m   1147\u001B[0m         \u001B[0mX\u001B[0m \u001B[1;33m=\u001B[0m \u001B[1;32mNone\u001B[0m\u001B[1;33m\u001B[0m\u001B[1;33m\u001B[0m\u001B[0m\n\u001B[1;32m-> 1148\u001B[1;33m         \u001B[1;32mfor\u001B[0m \u001B[0mx\u001B[0m \u001B[1;32min\u001B[0m \u001B[0mread_data\u001B[0m\u001B[1;33m(\u001B[0m\u001B[0m_loadtxt_chunksize\u001B[0m\u001B[1;33m)\u001B[0m\u001B[1;33m:\u001B[0m\u001B[1;33m\u001B[0m\u001B[1;33m\u001B[0m\u001B[0m\n\u001B[0m\u001B[0;32m   1149\u001B[0m             \u001B[1;32mif\u001B[0m \u001B[0mX\u001B[0m \u001B[1;32mis\u001B[0m \u001B[1;32mNone\u001B[0m\u001B[1;33m:\u001B[0m\u001B[1;33m\u001B[0m\u001B[1;33m\u001B[0m\u001B[0m\n\u001B[0;32m   1150\u001B[0m                 \u001B[0mX\u001B[0m \u001B[1;33m=\u001B[0m \u001B[0mnp\u001B[0m\u001B[1;33m.\u001B[0m\u001B[0marray\u001B[0m\u001B[1;33m(\u001B[0m\u001B[0mx\u001B[0m\u001B[1;33m,\u001B[0m \u001B[0mdtype\u001B[0m\u001B[1;33m)\u001B[0m\u001B[1;33m\u001B[0m\u001B[1;33m\u001B[0m\u001B[0m\n",
      "\u001B[1;32m~\\anaconda3\\lib\\site-packages\\numpy\\lib\\npyio.py\u001B[0m in \u001B[0;36mread_data\u001B[1;34m(chunk_size)\u001B[0m\n\u001B[0;32m    997\u001B[0m \u001B[1;33m\u001B[0m\u001B[0m\n\u001B[0;32m    998\u001B[0m             \u001B[1;31m# Convert each value according to its column and store\u001B[0m\u001B[1;33m\u001B[0m\u001B[1;33m\u001B[0m\u001B[0m\n\u001B[1;32m--> 999\u001B[1;33m             \u001B[0mitems\u001B[0m \u001B[1;33m=\u001B[0m \u001B[1;33m[\u001B[0m\u001B[0mconv\u001B[0m\u001B[1;33m(\u001B[0m\u001B[0mval\u001B[0m\u001B[1;33m)\u001B[0m \u001B[1;32mfor\u001B[0m \u001B[1;33m(\u001B[0m\u001B[0mconv\u001B[0m\u001B[1;33m,\u001B[0m \u001B[0mval\u001B[0m\u001B[1;33m)\u001B[0m \u001B[1;32min\u001B[0m \u001B[0mzip\u001B[0m\u001B[1;33m(\u001B[0m\u001B[0mconverters\u001B[0m\u001B[1;33m,\u001B[0m \u001B[0mvals\u001B[0m\u001B[1;33m)\u001B[0m\u001B[1;33m]\u001B[0m\u001B[1;33m\u001B[0m\u001B[1;33m\u001B[0m\u001B[0m\n\u001B[0m\u001B[0;32m   1000\u001B[0m \u001B[1;33m\u001B[0m\u001B[0m\n\u001B[0;32m   1001\u001B[0m             \u001B[1;31m# Then pack it according to the dtype's nesting\u001B[0m\u001B[1;33m\u001B[0m\u001B[1;33m\u001B[0m\u001B[0m\n",
      "\u001B[1;32m~\\anaconda3\\lib\\site-packages\\numpy\\lib\\npyio.py\u001B[0m in \u001B[0;36m<listcomp>\u001B[1;34m(.0)\u001B[0m\n\u001B[0;32m    997\u001B[0m \u001B[1;33m\u001B[0m\u001B[0m\n\u001B[0;32m    998\u001B[0m             \u001B[1;31m# Convert each value according to its column and store\u001B[0m\u001B[1;33m\u001B[0m\u001B[1;33m\u001B[0m\u001B[0m\n\u001B[1;32m--> 999\u001B[1;33m             \u001B[0mitems\u001B[0m \u001B[1;33m=\u001B[0m \u001B[1;33m[\u001B[0m\u001B[0mconv\u001B[0m\u001B[1;33m(\u001B[0m\u001B[0mval\u001B[0m\u001B[1;33m)\u001B[0m \u001B[1;32mfor\u001B[0m \u001B[1;33m(\u001B[0m\u001B[0mconv\u001B[0m\u001B[1;33m,\u001B[0m \u001B[0mval\u001B[0m\u001B[1;33m)\u001B[0m \u001B[1;32min\u001B[0m \u001B[0mzip\u001B[0m\u001B[1;33m(\u001B[0m\u001B[0mconverters\u001B[0m\u001B[1;33m,\u001B[0m \u001B[0mvals\u001B[0m\u001B[1;33m)\u001B[0m\u001B[1;33m]\u001B[0m\u001B[1;33m\u001B[0m\u001B[1;33m\u001B[0m\u001B[0m\n\u001B[0m\u001B[0;32m   1000\u001B[0m \u001B[1;33m\u001B[0m\u001B[0m\n\u001B[0;32m   1001\u001B[0m             \u001B[1;31m# Then pack it according to the dtype's nesting\u001B[0m\u001B[1;33m\u001B[0m\u001B[1;33m\u001B[0m\u001B[0m\n",
      "\u001B[1;32m~\\anaconda3\\lib\\site-packages\\numpy\\lib\\npyio.py\u001B[0m in \u001B[0;36mfloatconv\u001B[1;34m(x)\u001B[0m\n\u001B[0;32m    734\u001B[0m         \u001B[1;32mif\u001B[0m \u001B[1;34m'0x'\u001B[0m \u001B[1;32min\u001B[0m \u001B[0mx\u001B[0m\u001B[1;33m:\u001B[0m\u001B[1;33m\u001B[0m\u001B[1;33m\u001B[0m\u001B[0m\n\u001B[0;32m    735\u001B[0m             \u001B[1;32mreturn\u001B[0m \u001B[0mfloat\u001B[0m\u001B[1;33m.\u001B[0m\u001B[0mfromhex\u001B[0m\u001B[1;33m(\u001B[0m\u001B[0mx\u001B[0m\u001B[1;33m)\u001B[0m\u001B[1;33m\u001B[0m\u001B[1;33m\u001B[0m\u001B[0m\n\u001B[1;32m--> 736\u001B[1;33m         \u001B[1;32mreturn\u001B[0m \u001B[0mfloat\u001B[0m\u001B[1;33m(\u001B[0m\u001B[0mx\u001B[0m\u001B[1;33m)\u001B[0m\u001B[1;33m\u001B[0m\u001B[1;33m\u001B[0m\u001B[0m\n\u001B[0m\u001B[0;32m    737\u001B[0m \u001B[1;33m\u001B[0m\u001B[0m\n\u001B[0;32m    738\u001B[0m     \u001B[0mtyp\u001B[0m \u001B[1;33m=\u001B[0m \u001B[0mdtype\u001B[0m\u001B[1;33m.\u001B[0m\u001B[0mtype\u001B[0m\u001B[1;33m\u001B[0m\u001B[1;33m\u001B[0m\u001B[0m\n",
      "\u001B[1;31mValueError\u001B[0m: could not convert string to float: 'v'"
     ]
    }
   ],
   "source": [
    "import numpy as np\n",
    "import matplotlib.pyplot as plt\n",
    "from scipy import optimize\n",
    "#####################\n",
    "def chi2(v,F,sigF,C,B):\n",
    "    #####################\n",
    "    val = 0.0\n",
    "    for i in range(0,len(v)):\n",
    "        expected = C * v[i]**B\n",
    "        observed = F[i]\n",
    "        dF= sigF[i]\n",
    "        val+=(float(observed)-float(expected))**2/float(dF**2)\n",
    "    return val\n",
    "\n",
    "#####################\n",
    "def line_func(v, C, B):\n",
    "    #####################\n",
    "    return C*v**B\n",
    "### read data ###\n",
    "filename=\"airdrag.txt\"\n",
    "data = np.loadtxt(filename,usecols=(0,1))\n",
    "v = data[:,0]\n",
    "F = data[:,1]\n",
    "dF = F * .025\n",
    "#start = (10000, 40000)\n",
    "params, params_covariance = optimize.curve_fit(line_func, v, F,sigma=dF,absolute_sigma=True)\n",
    "eparams = np.array(params.size)\n",
    "eparams = np.sqrt(np.diag(params_covariance))\n",
    "plt.figure(figsize=(9, 6))\n",
    "plt.scatter(v, F)\n",
    "\n",
    "slope=params[0]\n",
    "intercept=params[1]\n",
    "slopeerr=eparams[0]\n",
    "intercepterr=eparams[1]\n",
    "plt.plot(v, line_func(v, slope, intercept), label=params, color=\"Blue\")\n",
    "#calculate chi squared and the number degrees of freedom.\n",
    "ndof=v.size-params.size\n",
    "chisqvalue = chi2(v,F,dF,params[0],params[1])\n",
    "print (params[0],chisqvalue, ndof)\n",
    "plt.xlabel(\"v\",fontsize=14)\n",
    "plt.ylabel(\"F\",fontsize=14)\n",
    "plt.title('Bens super cool awesome graph')\n",
    "plt.errorbar(v,F,xerr=0, yerr=dF,marker='.', fmt='.', capsize=4, linewidth=2, markersize=8, mew=0)\n",
    "#Put the params on diff lines and say what they are\n",
    "plt.text(20000, 210000, \"param C = {0:0.6f} $\\pm$ {1:0.6f}\".format(params[0], eparams[0]), color=\"Blue\", fontweight='bold')\n",
    "plt.text(20000, 400000, \"beta = {0:0.5f} $\\pm$ {1:0.5f}\".format(intercept, intercepterr), color=\"Blue\", fontweight='bold')\n",
    "#chi sq for curve\n",
    "plt.text(20000, 620000, \"$\\chi^2$/NDOF = {0:0.0f} $/$ {1:0.0f}\".format(chisqvalue, ndof), color=\"Blue\", fontweight='bold')\n",
    "plt.show()"
   ]
  },
  {
   "cell_type": "code",
   "execution_count": null,
   "outputs": [],
   "source": [],
   "metadata": {
    "collapsed": false
   }
  }
 ],
 "metadata": {
  "kernelspec": {
   "display_name": "Python 3",
   "language": "python",
   "name": "python3"
  },
  "language_info": {
   "codemirror_mode": {
    "name": "ipython",
    "version": 2
   },
   "file_extension": ".py",
   "mimetype": "text/x-python",
   "name": "python",
   "nbconvert_exporter": "python",
   "pygments_lexer": "ipython2",
   "version": "2.7.6"
  }
 },
 "nbformat": 4,
 "nbformat_minor": 0
}
