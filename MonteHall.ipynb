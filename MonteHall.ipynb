{
 "cells": [
  {
   "cell_type": "code",
   "execution_count": 1,
   "metadata": {
    "collapsed": true
   },
   "outputs": [
    {
     "name": "stdout",
     "output_type": "stream",
     "text": [
      "Stay = 29\n",
      "Switch =  71\n",
      "probability when switching % = 71.0\n",
      "probability when staying % = 28.999999999999996\n"
     ]
    }
   ],
   "source": [
    "import numpy as np\n",
    "#1 is a car\n",
    "#0 is not a car\n",
    "stay = 0\n",
    "switch = 0\n",
    "\n",
    "for i in range(eval(input('number of trials:'))):\n",
    "    lst = [1,0,0]\n",
    "    np.random.shuffle(lst)\n",
    "\n",
    "    ran = np.random.randint(3)\n",
    "    user = lst[ran]\n",
    "\n",
    "    del(lst[ran])\n",
    "\n",
    "    door = 0\n",
    "    for i in lst:\n",
    "        if i ==0:\n",
    "            del(lst[door])\n",
    "            break\n",
    "        door+=1\n",
    "\n",
    "    if user == 1:\n",
    "        stay+=1\n",
    "\n",
    "    if lst[0] == 1:\n",
    "        switch+=1\n",
    "\n",
    "print(\"Stay =\",stay)\n",
    "print(\"Switch = \",switch)\n",
    "print('probability when switching % =', (switch/(switch+stay))*100)\n",
    "print('probability when staying % =', (stay/(switch+stay))*100)\n",
    "\n",
    "#You should always switch!"
   ]
  },
  {
   "cell_type": "code",
   "execution_count": null,
   "outputs": [],
   "source": [],
   "metadata": {
    "collapsed": false
   }
  }
 ],
 "metadata": {
  "kernelspec": {
   "display_name": "Python 3",
   "language": "python",
   "name": "python3"
  },
  "language_info": {
   "codemirror_mode": {
    "name": "ipython",
    "version": 2
   },
   "file_extension": ".py",
   "mimetype": "text/x-python",
   "name": "python",
   "nbconvert_exporter": "python",
   "pygments_lexer": "ipython2",
   "version": "2.7.6"
  }
 },
 "nbformat": 4,
 "nbformat_minor": 0
}
